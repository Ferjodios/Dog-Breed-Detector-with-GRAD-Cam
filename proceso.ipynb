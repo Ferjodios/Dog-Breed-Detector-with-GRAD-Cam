{
 "cells": [
  {
   "cell_type": "markdown",
   "metadata": {},
   "source": [
    "Obtención de los datos."
   ]
  },
  {
   "cell_type": "code",
   "execution_count": 1,
   "metadata": {},
   "outputs": [
    {
     "name": "stdout",
     "output_type": "stream",
     "text": [
      "Organización y división en train/test completada.\n"
     ]
    }
   ],
   "source": [
    "import os\n",
    "import pandas as pd\n",
    "from shutil import move\n",
    "from sklearn.model_selection import train_test_split\n",
    "\n",
    "# Rutas de los archivos\n",
    "train_base_dir = './dataset/train/'  # Directorio donde están las imágenes de entrenamiento\n",
    "labels_file = './labels.csv'  # Ruta al archivo CSV con las etiquetas\n",
    "output_dir = './entreno_organizado/'  # Directorio base para las carpetas de salida (train y test)\n",
    "\n",
    "# Cargar el archivo CSV con las etiquetas\n",
    "labels = pd.read_csv(labels_file)\n",
    "\n",
    "# Crear los directorios de salida para train y test\n",
    "train_output_dir = os.path.join(output_dir, 'train')\n",
    "test_output_dir = os.path.join(output_dir, 'test')\n",
    "os.makedirs(train_output_dir, exist_ok=True)\n",
    "os.makedirs(test_output_dir, exist_ok=True)\n",
    "\n",
    "# Función para organizar imágenes por raza y dividir en train/test\n",
    "def organize_and_split_images(base_dir):\n",
    "    # Agrupar las imágenes por raza\n",
    "    grouped = labels.groupby('breed')\n",
    "    \n",
    "    for breed, group in grouped:\n",
    "        breed_images = group['id'].tolist()  # Lista de IDs de imágenes para esta raza\n",
    "        \n",
    "        # Dividir imágenes en 80% train y 20% test\n",
    "        train_images, test_images = train_test_split(breed_images, test_size=0.2, random_state=451025)\n",
    "        \n",
    "        # Crear las carpetas de raza en train y test\n",
    "        train_breed_folder = os.path.join(train_output_dir, breed)\n",
    "        test_breed_folder = os.path.join(test_output_dir, breed)\n",
    "        os.makedirs(train_breed_folder, exist_ok=True)\n",
    "        os.makedirs(test_breed_folder, exist_ok=True)\n",
    "\n",
    "        # Mover las imágenes de entrenamiento\n",
    "        for image_id in train_images:\n",
    "            image_path = os.path.join(base_dir, f\"{image_id}.jpg\")\n",
    "            if os.path.exists(image_path):\n",
    "                move(image_path, os.path.join(train_breed_folder, f\"{image_id}.jpg\"))\n",
    "            else:\n",
    "                print(f\"Imagen no encontrada: {image_path}\")\n",
    "        \n",
    "        # Mover las imágenes de prueba\n",
    "        for image_id in test_images:\n",
    "            image_path = os.path.join(base_dir, f\"{image_id}.jpg\")\n",
    "            if os.path.exists(image_path):\n",
    "                move(image_path, os.path.join(test_breed_folder, f\"{image_id}.jpg\"))\n",
    "            else:\n",
    "                print(f\"Imagen no encontrada: {image_path}\")\n",
    "\n",
    "# Organizar y dividir las imágenes\n",
    "organize_and_split_images(train_base_dir)\n",
    "\n",
    "print(\"Organización y división en train/test completada.\")\n"
   ]
  },
  {
   "cell_type": "markdown",
   "metadata": {},
   "source": [
    "Vamos a modificar los nombres para que sea más sencillo de depurar"
   ]
  },
  {
   "cell_type": "code",
   "execution_count": null,
   "metadata": {},
   "outputs": [
    {
     "name": "stdout",
     "output_type": "stream",
     "text": [
      "Nombres cambiados\n"
     ]
    }
   ],
   "source": [
    "import os\n",
    "\n",
    "# Ruta base del directorio organizado\n",
    "base_path = 'entreno_organizado'\n",
    "\n",
    "# Recorrer los subdirectorios (train y test)\n",
    "for subset in ['train', 'test']:\n",
    "    subset_path = os.path.join(base_path, subset)\n",
    "    \n",
    "    # Recorrer las carpetas de cada raza\n",
    "    for breed in os.listdir(subset_path):\n",
    "        breed_path = os.path.join(subset_path, breed)\n",
    "        i = 0\n",
    "        \n",
    "        # Renombrar imágenes dentro de la carpeta de la raza\n",
    "        for filename in os.listdir(breed_path):\n",
    "            old_path = os.path.join(breed_path, filename)\n",
    "            new_filename = f\"{breed}_{subset}_{i}.png\"  # Ejemplo: golden_retriever_train_0.png\n",
    "            new_path = os.path.join(breed_path, new_filename)\n",
    "            \n",
    "            os.rename(old_path, new_path)\n",
    "            i += 1\n",
    "\n",
    "print('Nombres cambiados.')\n"
   ]
  },
  {
   "cell_type": "markdown",
   "metadata": {},
   "source": [
    "Resize de las imágenes para normalizarlas y que tengan el mismo tamaño"
   ]
  },
  {
   "cell_type": "code",
   "execution_count": 1,
   "metadata": {},
   "outputs": [
    {
     "name": "stdout",
     "output_type": "stream",
     "text": [
      "Imágenes normalizadas\n"
     ]
    }
   ],
   "source": [
    "# Importar librerías\n",
    "import os\n",
    "from PIL import Image\n",
    "\n",
    "# Seleccionamos la carpeta con las imágenes a normalizar\n",
    "\n",
    "path = 'entreno_organizado'\n",
    "\n",
    "# Recorremos las imágenes de la carpeta y vamos cambiando el tamaño\n",
    "for perro in os.listdir(path):\n",
    "\ti = 0\n",
    "\tfor filename in os.listdir(path+'/'+perro):\n",
    "\t\t# Normalizar\n",
    "\t\tif (filename[-3:] == 'svg'):\n",
    "\t\t\tos.remove(path+'/'+perro+'/'+filename)\n",
    "\t\telse:\n",
    "\t\t\timg = Image.open(path+'/'+perro+'/'+filename)\n",
    "\t\t\timg = img.resize((224,224))\n",
    "\t\t\tos.remove(path+'/'+perro+'/'+filename)\n",
    "\t\t\timg.save(path+'/'+perro+'/'+perro+'_'+str(i)+'.png')\n",
    "\t\t\ti += 1\n",
    "\n",
    "print('Imágenes normalizadas')\n"
   ]
  },
  {
   "cell_type": "markdown",
   "metadata": {},
   "source": [
    "Vamos a comprobar la información del modelo previa a añadir nuevas imágenes"
   ]
  },
  {
   "cell_type": "code",
   "execution_count": 2,
   "metadata": {},
   "outputs": [
    {
     "name": "stdout",
     "output_type": "stream",
     "text": [
      "Número total de clases:  120\n",
      "Número de imágenes por clase:  {'affenpinscher': 80, 'afghan_hound': 116, 'african_hunting_dog': 86, 'airedale': 107, 'american_staffordshire_terrier': 74, 'appenzeller': 78, 'australian_terrier': 102, 'basenji': 110, 'basset': 82, 'beagle': 105, 'bedlington_terrier': 89, 'bernese_mountain_dog': 114, 'black-and-tan_coonhound': 77, 'blenheim_spaniel': 102, 'bloodhound': 85, 'bluetick': 85, 'border_collie': 72, 'border_terrier': 91, 'borzoi': 75, 'boston_bull': 87, 'bouvier_des_flandres': 86, 'boxer': 75, 'brabancon_griffon': 67, 'briard': 66, 'brittany_spaniel': 73, 'bull_mastiff': 75, 'cairn': 106, 'cardigan': 76, 'chesapeake_bay_retriever': 83, 'chihuahua': 71, 'chow': 93, 'clumber': 80, 'cocker_spaniel': 74, 'collie': 87, 'curly-coated_retriever': 72, 'dandie_dinmont': 89, 'dhole': 76, 'dingo': 80, 'doberman': 74, 'english_foxhound': 86, 'english_setter': 83, 'english_springer': 75, 'entlebucher': 115, 'eskimo_dog': 66, 'flat-coated_retriever': 72, 'french_bulldog': 70, 'german_shepherd': 69, 'german_short-haired_pointer': 75, 'giant_schnauzer': 69, 'golden_retriever': 67, 'gordon_setter': 81, 'greater_swiss_mountain_dog': 82, 'great_dane': 75, 'great_pyrenees': 111, 'groenendael': 82, 'ibizan_hound': 91, 'irish_setter': 88, 'irish_terrier': 82, 'irish_water_spaniel': 78, 'irish_wolfhound': 101, 'italian_greyhound': 92, 'japanese_spaniel': 105, 'keeshond': 81, 'kelpie': 86, 'kerry_blue_terrier': 82, 'komondor': 67, 'kuvasz': 71, 'labrador_retriever': 84, 'lakeland_terrier': 99, 'leonberg': 106, 'lhasa': 90, 'malamute': 81, 'malinois': 73, 'maltese_dog': 117, 'mexican_hairless': 80, 'miniature_pinscher': 102, 'miniature_poodle': 79, 'miniature_schnauzer': 78, 'newfoundland': 91, 'norfolk_terrier': 83, 'norwegian_elkhound': 95, 'norwich_terrier': 78, 'old_english_sheepdog': 87, 'otterhound': 69, 'papillon': 96, 'pekinese': 75, 'pembroke': 92, 'pomeranian': 111, 'pug': 94, 'redbone': 72, 'rhodesian_ridgeback': 88, 'rottweiler': 76, 'saint_bernard': 84, 'saluki': 99, 'samoyed': 109, 'schipperke': 86, 'scotch_terrier': 82, 'scottish_deerhound': 126, 'sealyham_terrier': 88, 'shetland_sheepdog': 76, 'shih-tzu': 112, 'siberian_husky': 95, 'silky_terrier': 90, 'soft-coated_wheaten_terrier': 71, 'staffordshire_bullterrier': 79, 'standard_poodle': 79, 'standard_schnauzer': 72, 'sussex_spaniel': 78, 'tibetan_mastiff': 69, 'tibetan_terrier': 107, 'toy_poodle': 80, 'toy_terrier': 79, 'vizsla': 70, 'walker_hound': 69, 'weimaraner': 85, 'welsh_springer_spaniel': 79, 'west_highland_white_terrier': 81, 'whippet': 95, 'wire-haired_fox_terrier': 82, 'yorkshire_terrier': 82}\n"
     ]
    },
    {
     "data": {
      "image/png": "[encoded data removed]",
      "text/plain": [
       "<Figure size 640x480 with 1 Axes>"
      ]
     },
     "metadata": {},
     "output_type": "display_data"
    }
   ],
   "source": [
    "# Script para pre-visualizar las clases y el número de imágenes por clase (descomentar si se quiere probar)\n",
    "\n",
    "# Importar librerías\n",
    "import os\n",
    "import matplotlib.pyplot as plt\n",
    "\n",
    "# Seleccionamos la carpeta con las diferentes clases\n",
    "path = 'entreno_organizado'\n",
    "clases = os.listdir(path) # Lista con las clases\n",
    "print(\"Número total de clases: \", len(clases))\n",
    "\n",
    "# Creamos un diccionario para almacenar el número de imágenes por clase\n",
    "num_imagenes = {}\n",
    "for elemento in clases:\n",
    "    num_imagenes[elemento] = len(os.listdir(path+'/'+elemento))\n",
    "    \n",
    "print(\"Número de imágenes por clase: \", num_imagenes)\n",
    "\n",
    "# cogemos solo las 5 clases con más imágenes\n",
    "#num_imagenes = {k: v for k, v in sorted(num_imagenes.items(), key=lambda item: item[1], reverse=True)[:5]}\n",
    "#clases = list(num_imagenes.keys())\n",
    "#print(\"Número de clases: \", len(clases))\n",
    "#print(\"Número de imágenes por clase: \", num_imagenes)\n",
    "\n",
    "# Dibujamos la gráfica\n",
    "plt.bar(range(len(num_imagenes)), list(num_imagenes.values()), align='center')\n",
    "plt.xticks(range(len(num_imagenes)), list(num_imagenes.keys()))\n",
    "plt.show()"
   ]
  },
  {
   "cell_type": "markdown",
   "metadata": {},
   "source": [
    "Mismo código usando pytorch\n",
    "(pip install pytorch)?\n",
    "(pip install torchvision)"
   ]
  },
  {
   "cell_type": "code",
   "execution_count": null,
   "metadata": {},
   "outputs": [
    {
     "name": "stdout",
     "output_type": "stream",
     "text": [
      "Imágenes aumentadas y guardadas.\n"
     ]
    }
   ],
   "source": [
    "import os\n",
    "from torchvision import datasets, transforms\n",
    "from PIL import Image\n",
    "\n",
    "# Configuración\n",
    "IMG_HEIGHT, IMG_WIDTH = 224, 224\n",
    "path = 'entreno_organizado'\n",
    "\n",
    "# Transformación con augmentación\n",
    "data_augmentation = transforms.Compose([\n",
    "    transforms.RandomHorizontalFlip(),\n",
    "    transforms.RandomRotation(10),\n",
    "    transforms.RandomResizedCrop((IMG_HEIGHT, IMG_WIDTH), scale=(0.8, 1.0)),\n",
    "])\n",
    "\n",
    "# Directorio con las carpetas de razas\n",
    "dataset = datasets.ImageFolder(root=path)\n",
    "\n",
    "# Crear carpeta para guardar imágenes generadas\n",
    "if not os.path.exists(path):\n",
    "    os.makedirs(path)\n",
    "\n",
    "# Generar múltiples imágenes aumentadas por cada imagen original\n",
    "num_augmentations = 10  # Número de imágenes aumentadas por cada imagen original\n",
    "for idx, (image, label) in enumerate(dataset):\n",
    "    label_name = dataset.classes[label]\n",
    "    label_dir = os.path.join(path, label_name)\n",
    "    if not os.path.exists(label_dir):\n",
    "        os.makedirs(label_dir)\n",
    "\n",
    "    # Generar y guardar varias imágenes aumentadas\n",
    "    for aug_idx in range(num_augmentations):\n",
    "        augmented_image = data_augmentation(image)\n",
    "        augmented_image.save(os.path.join(label_dir, f\"aug_{idx}_{aug_idx}.png\"))\n",
    "\n",
    "print(\"Imágenes aumentadas y guardadas.\")\n"
   ]
  },
  {
   "cell_type": "markdown",
   "metadata": {},
   "source": [
    "Gráficas e información de los datos"
   ]
  },
  {
   "cell_type": "code",
   "execution_count": null,
   "metadata": {},
   "outputs": [
    {
     "name": "stdout",
     "output_type": "stream",
     "text": [
      "Número total de clases:  120\n",
      "Número de imágenes por clase:  {'affenpinscher': 846, 'afghan_hound': 1220, 'african_hunting_dog': 902, 'airedale': 1119, 'american_staffordshire_terrier': 785, 'appenzeller': 828, 'australian_terrier': 1069, 'basenji': 1151, 'basset': 875, 'beagle': 1099, 'bedlington_terrier': 942, 'bernese_mountain_dog': 1173, 'black-and-tan_coonhound': 813, 'blenheim_spaniel': 1071, 'bloodhound': 891, 'bluetick': 902, 'border_collie': 767, 'border_terrier': 957, 'borzoi': 807, 'boston_bull': 925, 'bouvier_des_flandres': 905, 'boxer': 794, 'brabancon_griffon': 716, 'briard': 711, 'brittany_spaniel': 769, 'bull_mastiff': 799, 'cairn': 1113, 'cardigan': 814, 'chesapeake_bay_retriever': 875, 'chihuahua': 759, 'chow': 973, 'clumber': 845, 'cocker_spaniel': 796, 'collie': 916, 'curly-coated_retriever': 763, 'dandie_dinmont': 955, 'dhole': 813, 'dingo': 845, 'doberman': 792, 'english_foxhound': 921, 'english_setter': 880, 'english_springer': 799, 'entlebucher': 1200, 'eskimo_dog': 705, 'flat-coated_retriever': 770, 'french_bulldog': 749, 'german_shepherd': 735, 'german_short-haired_pointer': 798, 'giant_schnauzer': 728, 'golden_retriever': 709, 'gordon_setter': 857, 'greater_swiss_mountain_dog': 858, 'great_dane': 799, 'great_pyrenees': 1159, 'groenendael': 872, 'ibizan_hound': 955, 'irish_setter': 925, 'irish_terrier': 867, 'irish_water_spaniel': 829, 'irish_wolfhound': 1051, 'italian_greyhound': 977, 'japanese_spaniel': 1105, 'keeshond': 851, 'kelpie': 900, 'kerry_blue_terrier': 870, 'komondor': 711, 'kuvasz': 760, 'labrador_retriever': 884, 'lakeland_terrier': 1038, 'leonberg': 1113, 'lhasa': 942, 'malamute': 857, 'malinois': 778, 'maltese_dog': 1220, 'mexican_hairless': 848, 'miniature_pinscher': 1073, 'miniature_poodle': 840, 'miniature_schnauzer': 822, 'newfoundland': 953, 'norfolk_terrier': 879, 'norwegian_elkhound': 986, 'norwich_terrier': 819, 'old_english_sheepdog': 925, 'otterhound': 732, 'papillon': 1018, 'pekinese': 795, 'pembroke': 974, 'pomeranian': 1154, 'pug': 994, 'redbone': 769, 'rhodesian_ridgeback': 919, 'rottweiler': 811, 'saint_bernard': 887, 'saluki': 1028, 'samoyed': 1146, 'schipperke': 909, 'scotch_terrier': 878, 'scottish_deerhound': 1313, 'sealyham_terrier': 927, 'shetland_sheepdog': 808, 'shih-tzu': 1171, 'siberian_husky': 1004, 'silky_terrier': 956, 'soft-coated_wheaten_terrier': 767, 'staffordshire_bullterrier': 843, 'standard_poodle': 838, 'standard_schnauzer': 772, 'sussex_spaniel': 839, 'tibetan_mastiff': 733, 'tibetan_terrier': 1130, 'toy_poodle': 850, 'toy_terrier': 837, 'vizsla': 758, 'walker_hound': 729, 'weimaraner': 904, 'welsh_springer_spaniel': 837, 'west_highland_white_terrier': 862, 'whippet': 1000, 'wire-haired_fox_terrier': 866, 'yorkshire_terrier': 868}\n"
     ]
    },
    {
     "data": {
      "image/png": "[encoded data removed]",
      "text/plain": [
       "<Figure size 640x480 with 1 Axes>"
      ]
     },
     "metadata": {},
     "output_type": "display_data"
    }
   ],
   "source": [
    "# Script para pre-visualizar las clases y el número de imágenes por clase (descomentar si se quiere probar)\n",
    "\n",
    "# Importar librerías\n",
    "import os\n",
    "import matplotlib.pyplot as plt\n",
    "\n",
    "# Seleccionamos la carpeta con las diferentes clases\n",
    "path = 'entreno_organizado'\n",
    "clases = os.listdir(path) # Lista con las clases\n",
    "print(\"Número total de clases: \", len(clases))\n",
    "\n",
    "# Creamos un diccionario para almacenar el número de imágenes por clase\n",
    "num_imagenes = {}\n",
    "for elemento in clases:\n",
    "    num_imagenes[elemento] = len(os.listdir(path+'/'+elemento))\n",
    "    \n",
    "print(\"Número de imágenes por clase: \", num_imagenes)\n",
    "\n",
    "# Dibujamos la gráfica\n",
    "plt.bar(range(len(num_imagenes)), list(num_imagenes.values()), align='center')\n",
    "plt.xticks(range(len(num_imagenes)), list(num_imagenes.keys()))\n",
    "plt.show()"
   ]
  },
  {
   "cell_type": "markdown",
   "metadata": {},
   "source": [
    "Ahora vamos a realizar una separación entre la parte de train y la parte de test"
   ]
  },
  {
   "cell_type": "code",
   "execution_count": 4,
   "metadata": {},
   "outputs": [
    {
     "name": "stdout",
     "output_type": "stream",
     "text": [
      "Datasets de entrenamiento y prueba listos.\n"
     ]
    }
   ],
   "source": [
    "from torch.utils.data import random_split, DataLoader\n",
    "from torchvision import datasets, transforms\n",
    "\n",
    "IMG_HEIGHT, IMG_WIDTH = 224, 224\n",
    "# Transformación básica (sin augmentación)\n",
    "transform = transforms.Compose([\n",
    "    transforms.Resize((IMG_HEIGHT, IMG_WIDTH)),\n",
    "    transforms.ToTensor(),\n",
    "\t# Posible normalización extra\n",
    "\t# transforms.Normalize(mean=[0.485, 0.456, 0.406], std=[0.229, 0.224, 0.225])  # Normalización específica\n",
    "])\n",
    "\n",
    "# Dataset desde las imágenes generadas\n",
    "path = 'entreno_organizado'\n",
    "full_dataset = datasets.ImageFolder(root=path, transform=transform)\n",
    "\n",
    "# Dividir en entrenamiento y prueba\n",
    "train_size = int(0.8 * len(full_dataset))\n",
    "test_size = len(full_dataset) - train_size\n",
    "train_dataset, test_dataset = random_split(full_dataset, [train_size, test_size])\n",
    "\n",
    "# Cargar datos con DataLoader\n",
    "BATCH_SIZE = 32\n",
    "train_loader = DataLoader(train_dataset, batch_size=BATCH_SIZE, shuffle=True)\n",
    "test_loader = DataLoader(test_dataset, batch_size=BATCH_SIZE, shuffle=False)\n",
    "\n",
    "print(\"Datasets de entrenamiento y prueba listos.\")"
   ]
  },
  {
   "cell_type": "markdown",
   "metadata": {},
   "source": [
    "Entrenar el modelo 1"
   ]
  },
  {
   "cell_type": "code",
   "execution_count": 3,
   "metadata": {},
   "outputs": [
    {
     "name": "stderr",
     "output_type": "stream",
     "text": [
      "c:\\Users\\ferna\\AppData\\Local\\Programs\\Python\\Python38\\lib\\site-packages\\torchvision\\models\\_utils.py:208: UserWarning: The parameter 'pretrained' is deprecated since 0.13 and may be removed in the future, please use 'weights' instead.\n",
      "  warnings.warn(\n",
      "c:\\Users\\ferna\\AppData\\Local\\Programs\\Python\\Python38\\lib\\site-packages\\torchvision\\models\\_utils.py:223: UserWarning: Arguments other than a weight enum or `None` for 'weights' are deprecated since 0.13 and may be removed in the future. The current behavior is equivalent to passing `weights=ResNet18_Weights.IMAGENET1K_V1`. You can also use `weights=ResNet18_Weights.DEFAULT` to get the most up-to-date weights.\n",
      "  warnings.warn(msg)\n"
     ]
    },
    {
     "name": "stdout",
     "output_type": "stream",
     "text": [
      "Epoch [1/5], Loss: 3.2001\n",
      "Epoch [2/5], Loss: 2.0439\n",
      "Epoch [3/5], Loss: 1.4380\n",
      "Epoch [4/5], Loss: 0.9634\n",
      "Epoch [5/5], Loss: 0.6276\n",
      "Modelo guardado como dog_breed_classifier.pth\n"
     ]
    }
   ],
   "source": [
    "import torch\n",
    "import torch.nn as nn\n",
    "import torch.optim as optim\n",
    "from torchvision.models import resnet18\n",
    "\n",
    "# Configuración\n",
    "device = torch.device(\"cuda\" if torch.cuda.is_available() else \"cpu\")\n",
    "model = resnet18(pretrained=True)  # Cargar ResNet18 preentrenado\n",
    "model.fc = nn.Linear(model.fc.in_features, len(train_loader.dataset.dataset.classes))  # Ajustar a las clases del dataset\n",
    "model = model.to(device)\n",
    "\n",
    "criterion = nn.CrossEntropyLoss()  # Definir la función de pérdida\n",
    "optimizer = optim.Adam(model.parameters(), lr=0.001)  # Optimizador\n",
    "\n",
    "# Entrenamiento\n",
    "epochs = 5\n",
    "for epoch in range(epochs):\n",
    "    model.train()  # Modo de entrenamiento\n",
    "    running_loss = 0.0\n",
    "    for images, labels in train_loader:\n",
    "        images, labels = images.to(device), labels.to(device)  # Mover datos a la GPU/CPU\n",
    "\n",
    "        optimizer.zero_grad()  # Limpiar gradientes\n",
    "        outputs = model(images)  # Hacer predicciones\n",
    "        loss = criterion(outputs, labels)  # Calcular pérdida\n",
    "        loss.backward()  # Propagación hacia atrás\n",
    "        optimizer.step()  # Actualizar pesos\n",
    "\n",
    "        running_loss += loss.item()  # Acumular pérdida\n",
    "    print(f\"Epoch [{epoch + 1}/{epochs}], Loss: {running_loss / len(train_loader):.4f}\")\n",
    "\n",
    "# Guardar el modelo\n",
    "torch.save(model.state_dict(), \"dog_breed_classifier.pth\")\n",
    "print(\"Modelo guardado como dog_breed_classifier.pth\")\n"
   ]
  },
  {
   "cell_type": "markdown",
   "metadata": {},
   "source": [
    "Entrenar el modelo, grad-cam"
   ]
  },
  {
   "cell_type": "code",
   "execution_count": 5,
   "metadata": {},
   "outputs": [
    {
     "name": "stdout",
     "output_type": "stream",
     "text": [
      "Precisión en el conjunto de prueba: 0.6782\n"
     ]
    }
   ],
   "source": [
    "import torch\n",
    "import torch.nn as nn\n",
    "from torchvision.models import resnet18\n",
    "from sklearn.metrics import accuracy_score\n",
    "\n",
    "# Configuración\n",
    "device = torch.device(\"cuda\" if torch.cuda.is_available() else \"cpu\")\n",
    "\n",
    "# Cargar el modelo\n",
    "model = resnet18()\n",
    "model.fc = nn.Linear(model.fc.in_features, len(test_loader.dataset.dataset.classes))  # Ajustar a las clases del dataset\n",
    "model.load_state_dict(torch.load(\"dog_breed_classifier.pth\"))  # Cargar pesos entrenados\n",
    "model = model.to(device)\n",
    "model.eval()  # Modo evaluación\n",
    "\n",
    "# Evaluación\n",
    "all_preds = []\n",
    "all_labels = []\n",
    "\n",
    "with torch.no_grad():  # Desactivar gradientes\n",
    "    for images, labels in test_loader:\n",
    "        images, labels = images.to(device), labels.to(device)\n",
    "        outputs = model(images)  # Predicciones\n",
    "        _, preds = torch.max(outputs, 1)  # Clases predichas\n",
    "        all_preds.extend(preds.cpu().numpy())\n",
    "        all_labels.extend(labels.cpu().numpy())\n",
    "\n",
    "# Calcular precisión\n",
    "accuracy = accuracy_score(all_labels, all_preds)\n",
    "print(f\"Precisión en el conjunto de prueba: {accuracy:.4f}\")\n"
   ]
  }
 ],
 "metadata": {
  "kernelspec": {
   "display_name": "Python 3",
   "language": "python",
   "name": "python3"
  },
  "language_info": {
   "codemirror_mode": {
    "name": "ipython",
    "version": 3
   },
   "file_extension": ".py",
   "mimetype": "text/x-python",
   "name": "python",
   "nbconvert_exporter": "python",
   "pygments_lexer": "ipython3",
   "version": "3.11.9"
  }
 },
 "nbformat": 4,
 "nbformat_minor": 2
}
